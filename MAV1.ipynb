{
  "nbformat": 4,
  "nbformat_minor": 0,
  "metadata": {
    "colab": {
      "provenance": []
    },
    "kernelspec": {
      "name": "python3",
      "display_name": "Python 3"
    },
    "language_info": {
      "name": "python"
    }
  },
  "cells": [
    {
      "cell_type": "markdown",
      "source": [
        "VIZOSO, María Alejandra - DNI: 160837708 - mavizoso@gmail.com\n",
        "DATA ANALYTICS CON PYTHON - COMISION: 25262\n",
        "Miércoles de 20 a 22 hs"
      ],
      "metadata": {
        "id": "ii4jn4HFoUMm"
      }
    },
    {
      "cell_type": "markdown",
      "source": [
        "1. Crear un documento en Google Colaboratory y cargar los sets de datos como DataFrames.\n",
        "*   En primer lugar voy a montar mi google drive\n",
        "*   A continuación voy a importar los datasets como dataframe"
      ],
      "metadata": {
        "id": "h4wmQC1_fMFe"
      }
    },
    {
      "cell_type": "code",
      "execution_count": null,
      "metadata": {
        "colab": {
          "base_uri": "https://localhost:8080/"
        },
        "id": "yFl3Y0W1eyse",
        "outputId": "2f143d04-0f9f-4a06-beb9-784f0202eb5d"
      },
      "outputs": [
        {
          "output_type": "stream",
          "name": "stdout",
          "text": [
            "Drive already mounted at /content/drive; to attempt to forcibly remount, call drive.mount(\"/content/drive\", force_remount=True).\n"
          ]
        }
      ],
      "source": [
        "from google.colab import drive\n",
        "drive.mount('/content/drive')"
      ]
    },
    {
      "cell_type": "code",
      "source": [
        "import pandas as pd\n",
        "df_ventas = pd.read_csv('/content/drive/MyDrive/datasets/ventas.csv', encoding='utf-8')\n",
        "df_clientes = pd.read_csv('/content/drive/MyDrive/datasets/clientes.csv', encoding='utf-8')\n",
        "df_marketing = pd.read_csv('/content/drive/MyDrive/datasets/marketing.csv', encoding='utf-8')"
      ],
      "metadata": {
        "id": "RVlnPkyIi_b4"
      },
      "execution_count": null,
      "outputs": []
    },
    {
      "cell_type": "markdown",
      "source": [],
      "metadata": {
        "id": "Q-GjVkCZmy-r"
      }
    },
    {
      "cell_type": "markdown",
      "source": [
        "4. Introducción a Pandas: realizar un análisis exploratorio inicial de los DataFrames."
      ],
      "metadata": {
        "id": "lULmkNfQnN-l"
      }
    },
    {
      "cell_type": "code",
      "source": [
        "print(\"*** Información completa de Ventas ***\")\n",
        "df_ventas.info(verbose=True)\n",
        "duplicados_ventas = df_ventas.duplicated(keep='first').sum()\n",
        "print(f\"\\nCantidad de filas completas duplicadas conservando la primera de ellas: {duplicados_ventas}\")\n",
        "print()\n",
        "print(\"*** Información completa de Clientes ***\")\n",
        "df_clientes.info(verbose=True)\n",
        "duplicados_clientes = df_clientes.duplicated(keep='first').sum()\n",
        "print(f\"\\nCantidad de filas completas duplicadas conservando la primera de ellas: {duplicados_clientes}\")\n",
        "print()\n",
        "print(\"*** Información completa de Marketing ***\")\n",
        "df_marketing.info(verbose=True)\n",
        "duplicados_marketing = df_marketing.duplicated(keep='first').sum()\n",
        "print(f\"\\nCantidad de filas completas duplicadas conservando la primera de ellas: {duplicados_marketing}\")\n"
      ],
      "metadata": {
        "colab": {
          "base_uri": "https://localhost:8080/"
        },
        "id": "1O2IOUHCneBV",
        "outputId": "08f2f9f5-8f81-4164-ff4a-aeb6bb0fa96a"
      },
      "execution_count": null,
      "outputs": [
        {
          "output_type": "stream",
          "name": "stdout",
          "text": [
            "*** Información completa de Ventas ***\n",
            "<class 'pandas.core.frame.DataFrame'>\n",
            "RangeIndex: 3035 entries, 0 to 3034\n",
            "Data columns (total 6 columns):\n",
            " #   Column       Non-Null Count  Dtype  \n",
            "---  ------       --------------  -----  \n",
            " 0   id_venta     3035 non-null   int64  \n",
            " 1   producto     3035 non-null   object \n",
            " 2   precio       3033 non-null   object \n",
            " 3   cantidad     3033 non-null   float64\n",
            " 4   fecha_venta  3035 non-null   object \n",
            " 5   categoria    3035 non-null   object \n",
            "dtypes: float64(1), int64(1), object(4)\n",
            "memory usage: 142.4+ KB\n",
            "\n",
            "Cantidad de filas completas duplicadas conservando la primera de ellas: 35\n",
            "\n",
            "*** Información completa de Clientes ***\n",
            "<class 'pandas.core.frame.DataFrame'>\n",
            "RangeIndex: 567 entries, 0 to 566\n",
            "Data columns (total 5 columns):\n",
            " #   Column      Non-Null Count  Dtype  \n",
            "---  ------      --------------  -----  \n",
            " 0   id_cliente  567 non-null    int64  \n",
            " 1   nombre      567 non-null    object \n",
            " 2   edad        567 non-null    int64  \n",
            " 3   ciudad      567 non-null    object \n",
            " 4   ingresos    567 non-null    float64\n",
            "dtypes: float64(1), int64(2), object(2)\n",
            "memory usage: 22.3+ KB\n",
            "\n",
            "Cantidad de filas completas duplicadas conservando la primera de ellas: 0\n",
            "\n",
            "*** Información completa de Marketing ***\n",
            "<class 'pandas.core.frame.DataFrame'>\n",
            "RangeIndex: 90 entries, 0 to 89\n",
            "Data columns (total 6 columns):\n",
            " #   Column        Non-Null Count  Dtype  \n",
            "---  ------        --------------  -----  \n",
            " 0   id_campanha   90 non-null     int64  \n",
            " 1   producto      90 non-null     object \n",
            " 2   canal         90 non-null     object \n",
            " 3   costo         90 non-null     float64\n",
            " 4   fecha_inicio  90 non-null     object \n",
            " 5   fecha_fin     90 non-null     object \n",
            "dtypes: float64(1), int64(1), object(4)\n",
            "memory usage: 4.3+ KB\n",
            "\n",
            "Cantidad de filas completas duplicadas conservando la primera de ellas: 0\n"
          ]
        }
      ]
    },
    {
      "cell_type": "markdown",
      "source": [
        "5. Calidad de Datos: Identificar valores nulos y duplicados en los conjuntos de datos. Documentar el estado inicial de los datos."
      ],
      "metadata": {
        "id": "xU4TIAzMyKO8"
      }
    },
    {
      "cell_type": "code",
      "source": [
        "print(\"*** Detalle de filas NAN en Ventas ***\")\n",
        "filas_con_nan = df_ventas.isna().any(axis=1)\n",
        "print(df_ventas.loc[filas_con_nan])\n",
        "print(\"*** Detalle de filas nulas en Ventas ***\")\n",
        "filas_nulas = df_ventas.isnull().any(axis=1)\n",
        "print(df_ventas.loc[filas_nulas])\n",
        "print()\n",
        "print(\"*** Detalle de filas NAN en Clientes ***\")\n",
        "filas_con_nan = df_clientes.isna().any(axis=1)\n",
        "print(df_clientes.loc[filas_con_nan])\n",
        "print(\"*** Detalle de filas nulas en Clientes ***\")\n",
        "filas_nulas = df_clientes.isnull().any(axis=1)\n",
        "print(df_clientes.loc[filas_nulas])\n",
        "print()\n",
        "print(\"*** Detalle de filas NAN en Marketing ***\")\n",
        "filas_con_nan = df_marketing.isna().any(axis=1)\n",
        "print(df_marketing.loc[filas_con_nan])\n",
        "print(\"*** Detalle de filas nulas en Marketing ***\")\n",
        "filas_nulas = df_marketing.isnull().any(axis=1)\n",
        "print(df_marketing.loc[filas_nulas])"
      ],
      "metadata": {
        "colab": {
          "base_uri": "https://localhost:8080/"
        },
        "id": "jjllGVovySy8",
        "outputId": "5617acda-eaa0-4377-f908-f2551069e749"
      },
      "execution_count": null,
      "outputs": [
        {
          "output_type": "stream",
          "name": "stdout",
          "text": [
            "*** Detalle de filas NAN en Ventas ***\n",
            "     id_venta               producto precio  cantidad fecha_venta    categoria\n",
            "136       627  Elementos de cerámica    NaN       NaN  17/01/2024   Decoración\n",
            "139      2171    Parlantes Bluetooth    NaN       NaN  17/01/2024  Electrónica\n",
            "*** Detalle de filas nulas en Ventas ***\n",
            "     id_venta               producto precio  cantidad fecha_venta    categoria\n",
            "136       627  Elementos de cerámica    NaN       NaN  17/01/2024   Decoración\n",
            "139      2171    Parlantes Bluetooth    NaN       NaN  17/01/2024  Electrónica\n",
            "\n",
            "*** Detalle de filas NAN en Clientes ***\n",
            "Empty DataFrame\n",
            "Columns: [id_cliente, nombre, edad, ciudad, ingresos]\n",
            "Index: []\n",
            "*** Detalle de filas nulas en Clientes ***\n",
            "Empty DataFrame\n",
            "Columns: [id_cliente, nombre, edad, ciudad, ingresos]\n",
            "Index: []\n",
            "\n",
            "*** Detalle de filas NAN en Marketing ***\n",
            "Empty DataFrame\n",
            "Columns: [id_campanha, producto, canal, costo, fecha_inicio, fecha_fin]\n",
            "Index: []\n",
            "*** Detalle de filas nulas en Marketing ***\n",
            "Empty DataFrame\n",
            "Columns: [id_campanha, producto, canal, costo, fecha_inicio, fecha_fin]\n",
            "Index: []\n"
          ]
        }
      ]
    },
    {
      "cell_type": "markdown",
      "source": [
        "1. Limpieza de Datos: Limpiar el conjunto de datos eliminando duplicados y caracteres no deseados. Documentar el proceso y los resultados.\n",
        "\n",
        "\n",
        "*   Con el fin de poder trabajar, en primer lugar voy a eliminar nulos y duplicados en el único df que los presenta: df_ventas\n",
        "*   Luego voy a adecuar los tipos de datos para poder trabajar adecuadamente con las columnas que los contienen. En df_ventas es necesario eliminar el signo $ de la columna precio para poder tomarla como float y convertir fecha_venta al formato date. En df_marketing es necesario convertir a fecha fecha_inicio y fecha_fin.\n",
        "\n"
      ],
      "metadata": {
        "id": "4cbvto2Q71qi"
      }
    },
    {
      "cell_type": "code",
      "source": [
        "df_ventas.dropna() #elimino las dos filas con na y me quedan 3033\n",
        "df_ventasL = df_ventas.drop_duplicates().copy() #elimino las filas duplicadas conservando solo la última, ahora me quedan 3000"
      ],
      "metadata": {
        "id": "i6xyqeW5B-6u"
      },
      "execution_count": null,
      "outputs": []
    },
    {
      "cell_type": "code",
      "source": [
        "from datetime import datetime\n",
        "df_ventasL['precio'].astype(str)\n",
        "df_ventasL['precio'] = df_ventasL['precio'].str.replace('$', '')\n",
        "df_ventasL['precio'] = df_ventasL['precio'].astype(float)\n",
        "df_ventasL['fecha_venta'] = pd.to_datetime(df_ventas['fecha_venta'], format='%d/%m/%Y')\n",
        "print(df_ventasL.dtypes)"
      ],
      "metadata": {
        "colab": {
          "base_uri": "https://localhost:8080/"
        },
        "id": "kd-U07AB7REl",
        "outputId": "10eddbca-9130-41f4-9f60-87f9319681f6"
      },
      "execution_count": null,
      "outputs": [
        {
          "output_type": "stream",
          "name": "stdout",
          "text": [
            "id_venta                int64\n",
            "producto               object\n",
            "precio                float64\n",
            "cantidad              float64\n",
            "fecha_venta    datetime64[ns]\n",
            "categoria              object\n",
            "dtype: object\n"
          ]
        },
        {
          "output_type": "stream",
          "name": "stderr",
          "text": [
            "/tmp/ipython-input-3781140772.py:3: SettingWithCopyWarning: \n",
            "A value is trying to be set on a copy of a slice from a DataFrame.\n",
            "Try using .loc[row_indexer,col_indexer] = value instead\n",
            "\n",
            "See the caveats in the documentation: https://pandas.pydata.org/pandas-docs/stable/user_guide/indexing.html#returning-a-view-versus-a-copy\n",
            "  df_ventasL['precio'] = df_ventasL['precio'].str.replace('$', '')\n",
            "/tmp/ipython-input-3781140772.py:4: SettingWithCopyWarning: \n",
            "A value is trying to be set on a copy of a slice from a DataFrame.\n",
            "Try using .loc[row_indexer,col_indexer] = value instead\n",
            "\n",
            "See the caveats in the documentation: https://pandas.pydata.org/pandas-docs/stable/user_guide/indexing.html#returning-a-view-versus-a-copy\n",
            "  df_ventasL['precio'] = df_ventasL['precio'].astype(float)\n",
            "/tmp/ipython-input-3781140772.py:5: SettingWithCopyWarning: \n",
            "A value is trying to be set on a copy of a slice from a DataFrame.\n",
            "Try using .loc[row_indexer,col_indexer] = value instead\n",
            "\n",
            "See the caveats in the documentation: https://pandas.pydata.org/pandas-docs/stable/user_guide/indexing.html#returning-a-view-versus-a-copy\n",
            "  df_ventasL['fecha_venta'] = pd.to_datetime(df_ventas['fecha_venta'], format='%d/%m/%Y')\n"
          ]
        }
      ]
    },
    {
      "cell_type": "code",
      "source": [
        "df_marketing['fecha_inicio'] = pd.to_datetime(df_marketing['fecha_inicio'], format='%d/%m/%Y')\n",
        "df_marketing['fecha_fin'] = pd.to_datetime(df_marketing['fecha_fin'], format='%d/%m/%Y')\n",
        "print(df_marketing.dtypes)"
      ],
      "metadata": {
        "colab": {
          "base_uri": "https://localhost:8080/"
        },
        "id": "Rr_mHDKx9vzc",
        "outputId": "b546d5cc-44b1-43e3-d637-9f129f390e52"
      },
      "execution_count": null,
      "outputs": [
        {
          "output_type": "stream",
          "name": "stdout",
          "text": [
            "id_campanha              int64\n",
            "producto                object\n",
            "canal                   object\n",
            "costo                  float64\n",
            "fecha_inicio    datetime64[ns]\n",
            "fecha_fin       datetime64[ns]\n",
            "dtype: object\n"
          ]
        }
      ]
    },
    {
      "cell_type": "markdown",
      "source": [
        "2. Transformación de Datos: Aplicar filtros y transformaciones para crear una tabla de ventas que muestre solo los productos con alto rendimiento.\n",
        "Para este punto y, dado los datos disponibles tomaré como definición de productos de alto rendimiento al 25% que obtuvieron un mayor nivel de ingresos (cantidad por precio) totales."
      ],
      "metadata": {
        "id": "O6cxHPfD-lG5"
      }
    },
    {
      "cell_type": "code",
      "source": [
        "productos_df = df_ventasL[['producto', 'cantidad', 'precio']].copy()\n",
        "productos_df.describe()\n",
        "productos_df['valor'] = productos_df['cantidad'] * productos_df['precio']\n",
        "df_totalP = productos_df.groupby('producto', as_index=False)['valor'].sum()\n",
        "df_totalP = df_totalP.sort_values('valor', ascending=False)\n",
        "df_totalP.describe()"
      ],
      "metadata": {
        "id": "51ZGPqhdBHHc",
        "colab": {
          "base_uri": "https://localhost:8080/",
          "height": 300
        },
        "outputId": "793c98cf-fe1c-41bd-8cc8-ab8f753b7cc8"
      },
      "execution_count": null,
      "outputs": [
        {
          "output_type": "execute_result",
          "data": {
            "text/plain": [
              "              valor\n",
              "count     30.000000\n",
              "mean   48903.117333\n",
              "std    13265.561715\n",
              "min    11128.800000\n",
              "25%    45601.920000\n",
              "50%    48140.245000\n",
              "75%    51092.960000\n",
              "max    82276.380000"
            ],
            "text/html": [
              "\n",
              "  <div id=\"df-ed447109-cfdb-4047-ab91-6caec5d15e40\" class=\"colab-df-container\">\n",
              "    <div>\n",
              "<style scoped>\n",
              "    .dataframe tbody tr th:only-of-type {\n",
              "        vertical-align: middle;\n",
              "    }\n",
              "\n",
              "    .dataframe tbody tr th {\n",
              "        vertical-align: top;\n",
              "    }\n",
              "\n",
              "    .dataframe thead th {\n",
              "        text-align: right;\n",
              "    }\n",
              "</style>\n",
              "<table border=\"1\" class=\"dataframe\">\n",
              "  <thead>\n",
              "    <tr style=\"text-align: right;\">\n",
              "      <th></th>\n",
              "      <th>valor</th>\n",
              "    </tr>\n",
              "  </thead>\n",
              "  <tbody>\n",
              "    <tr>\n",
              "      <th>count</th>\n",
              "      <td>30.000000</td>\n",
              "    </tr>\n",
              "    <tr>\n",
              "      <th>mean</th>\n",
              "      <td>48903.117333</td>\n",
              "    </tr>\n",
              "    <tr>\n",
              "      <th>std</th>\n",
              "      <td>13265.561715</td>\n",
              "    </tr>\n",
              "    <tr>\n",
              "      <th>min</th>\n",
              "      <td>11128.800000</td>\n",
              "    </tr>\n",
              "    <tr>\n",
              "      <th>25%</th>\n",
              "      <td>45601.920000</td>\n",
              "    </tr>\n",
              "    <tr>\n",
              "      <th>50%</th>\n",
              "      <td>48140.245000</td>\n",
              "    </tr>\n",
              "    <tr>\n",
              "      <th>75%</th>\n",
              "      <td>51092.960000</td>\n",
              "    </tr>\n",
              "    <tr>\n",
              "      <th>max</th>\n",
              "      <td>82276.380000</td>\n",
              "    </tr>\n",
              "  </tbody>\n",
              "</table>\n",
              "</div>\n",
              "    <div class=\"colab-df-buttons\">\n",
              "      \n",
              "  <div class=\"colab-df-container\">\n",
              "    <button class=\"colab-df-convert\" onclick=\"convertToInteractive('df-ed447109-cfdb-4047-ab91-6caec5d15e40')\"\n",
              "            title=\"Convert this dataframe to an interactive table.\"\n",
              "            style=\"display:none;\">\n",
              "      \n",
              "  <svg xmlns=\"http://www.w3.org/2000/svg\" height=\"24px\" viewBox=\"0 -960 960 960\">\n",
              "    <path d=\"M120-120v-720h720v720H120Zm60-500h600v-160H180v160Zm220 220h160v-160H400v160Zm0 220h160v-160H400v160ZM180-400h160v-160H180v160Zm440 0h160v-160H620v160ZM180-180h160v-160H180v160Zm440 0h160v-160H620v160Z\"/>\n",
              "  </svg>\n",
              "    </button>\n",
              "    \n",
              "  <style>\n",
              "    .colab-df-container {\n",
              "      display:flex;\n",
              "      gap: 12px;\n",
              "    }\n",
              "\n",
              "    .colab-df-convert {\n",
              "      background-color: #E8F0FE;\n",
              "      border: none;\n",
              "      border-radius: 50%;\n",
              "      cursor: pointer;\n",
              "      display: none;\n",
              "      fill: #1967D2;\n",
              "      height: 32px;\n",
              "      padding: 0 0 0 0;\n",
              "      width: 32px;\n",
              "    }\n",
              "\n",
              "    .colab-df-convert:hover {\n",
              "      background-color: #E2EBFA;\n",
              "      box-shadow: 0px 1px 2px rgba(60, 64, 67, 0.3), 0px 1px 3px 1px rgba(60, 64, 67, 0.15);\n",
              "      fill: #174EA6;\n",
              "    }\n",
              "\n",
              "    .colab-df-buttons div {\n",
              "      margin-bottom: 4px;\n",
              "    }\n",
              "\n",
              "    [theme=dark] .colab-df-convert {\n",
              "      background-color: #3B4455;\n",
              "      fill: #D2E3FC;\n",
              "    }\n",
              "\n",
              "    [theme=dark] .colab-df-convert:hover {\n",
              "      background-color: #434B5C;\n",
              "      box-shadow: 0px 1px 3px 1px rgba(0, 0, 0, 0.15);\n",
              "      filter: drop-shadow(0px 1px 2px rgba(0, 0, 0, 0.3));\n",
              "      fill: #FFFFFF;\n",
              "    }\n",
              "  </style>\n",
              "\n",
              "    <script>\n",
              "      const buttonEl =\n",
              "        document.querySelector('#df-ed447109-cfdb-4047-ab91-6caec5d15e40 button.colab-df-convert');\n",
              "      buttonEl.style.display =\n",
              "        google.colab.kernel.accessAllowed ? 'block' : 'none';\n",
              "\n",
              "      async function convertToInteractive(key) {\n",
              "        const element = document.querySelector('#df-ed447109-cfdb-4047-ab91-6caec5d15e40');\n",
              "        const dataTable =\n",
              "          await google.colab.kernel.invokeFunction('convertToInteractive',\n",
              "                                                    [key], {});\n",
              "        if (!dataTable) return;\n",
              "\n",
              "        const docLinkHtml = 'Like what you see? Visit the ' +\n",
              "          '<a target=\"_blank\" href=https://colab.research.google.com/notebooks/data_table.ipynb>data table notebook</a>'\n",
              "          + ' to learn more about interactive tables.';\n",
              "        element.innerHTML = '';\n",
              "        dataTable['output_type'] = 'display_data';\n",
              "        await google.colab.output.renderOutput(dataTable, element);\n",
              "        const docLink = document.createElement('div');\n",
              "        docLink.innerHTML = docLinkHtml;\n",
              "        element.appendChild(docLink);\n",
              "      }\n",
              "    </script>\n",
              "  </div>\n",
              "  \n",
              "    </div>\n",
              "  </div>\n",
              "  "
            ]
          },
          "metadata": {},
          "execution_count": 8
        }
      ]
    },
    {
      "cell_type": "code",
      "source": [
        "percentil80 = df_totalP['valor'].quantile(0.8,interpolation='midpoint')\n",
        "df_totalP_mv0 = df_totalP[df_totalP['valor'] > percentil80]\n",
        "df_totalP_mv1 = df_totalP_mv0[['producto', 'valor']]\n",
        "print(\"Subconjunto final con el 20% superior:\")\n",
        "print(df_totalP_mv1)"
      ],
      "metadata": {
        "colab": {
          "base_uri": "https://localhost:8080/"
        },
        "id": "fxzzfbhXV0Tm",
        "outputId": "3498574b-427f-406d-82e3-d15e46dd035a"
      },
      "execution_count": null,
      "outputs": [
        {
          "output_type": "stream",
          "name": "stdout",
          "text": [
            "Subconjunto final con el 20% superior:\n",
            "             producto     valor\n",
            "19    Lámpara de mesa  82276.38\n",
            "3         Auriculares  74175.58\n",
            "20         Microondas  72562.89\n",
            "5            Cafetera  59607.31\n",
            "9   Cuadro decorativo  54297.60\n",
            "27         Smartphone  54132.44\n"
          ]
        }
      ]
    },
    {
      "cell_type": "markdown",
      "source": [
        "3. Agregación: Resumir las ventas por categoría de producto y analizar los ingresos generados."
      ],
      "metadata": {
        "id": "Uh3XEtwR-50g"
      }
    },
    {
      "cell_type": "code",
      "source": [
        "categoria_df = df_ventasL[['categoria', 'cantidad', 'precio']].copy()\n",
        "categoria_df['valor'] = categoria_df['cantidad'] * categoria_df['precio']\n",
        "total3 = categoria_df['valor'].sum()\n",
        "categoria_df.sort_values('categoria')"
      ],
      "metadata": {
        "id": "IirWhiMEAjWZ",
        "colab": {
          "base_uri": "https://localhost:8080/",
          "height": 423
        },
        "outputId": "e543299e-2e64-42a9-cae0-a2312e25aaac"
      },
      "execution_count": null,
      "outputs": [
        {
          "output_type": "execute_result",
          "data": {
            "text/plain": [
              "        categoria  cantidad  precio    valor\n",
              "0      Decoración       5.0   69.94   349.70\n",
              "2180   Decoración       7.0   45.05   315.35\n",
              "935    Decoración       7.0   71.03   497.21\n",
              "934    Decoración       7.0  107.80   754.60\n",
              "2181   Decoración      11.0  111.41  1225.51\n",
              "...           ...       ...     ...      ...\n",
              "981   Electrónica       4.0   43.20   172.80\n",
              "2129  Electrónica       6.0   32.05   192.30\n",
              "2128  Electrónica       8.0   80.89   647.12\n",
              "2126  Electrónica       6.0  116.35   698.10\n",
              "3034  Electrónica       6.0   55.47   332.82\n",
              "\n",
              "[3000 rows x 4 columns]"
            ],
            "text/html": [
              "\n",
              "  <div id=\"df-9d378307-29c4-4205-8c4b-f8ed838c3535\" class=\"colab-df-container\">\n",
              "    <div>\n",
              "<style scoped>\n",
              "    .dataframe tbody tr th:only-of-type {\n",
              "        vertical-align: middle;\n",
              "    }\n",
              "\n",
              "    .dataframe tbody tr th {\n",
              "        vertical-align: top;\n",
              "    }\n",
              "\n",
              "    .dataframe thead th {\n",
              "        text-align: right;\n",
              "    }\n",
              "</style>\n",
              "<table border=\"1\" class=\"dataframe\">\n",
              "  <thead>\n",
              "    <tr style=\"text-align: right;\">\n",
              "      <th></th>\n",
              "      <th>categoria</th>\n",
              "      <th>cantidad</th>\n",
              "      <th>precio</th>\n",
              "      <th>valor</th>\n",
              "    </tr>\n",
              "  </thead>\n",
              "  <tbody>\n",
              "    <tr>\n",
              "      <th>0</th>\n",
              "      <td>Decoración</td>\n",
              "      <td>5.0</td>\n",
              "      <td>69.94</td>\n",
              "      <td>349.70</td>\n",
              "    </tr>\n",
              "    <tr>\n",
              "      <th>2180</th>\n",
              "      <td>Decoración</td>\n",
              "      <td>7.0</td>\n",
              "      <td>45.05</td>\n",
              "      <td>315.35</td>\n",
              "    </tr>\n",
              "    <tr>\n",
              "      <th>935</th>\n",
              "      <td>Decoración</td>\n",
              "      <td>7.0</td>\n",
              "      <td>71.03</td>\n",
              "      <td>497.21</td>\n",
              "    </tr>\n",
              "    <tr>\n",
              "      <th>934</th>\n",
              "      <td>Decoración</td>\n",
              "      <td>7.0</td>\n",
              "      <td>107.80</td>\n",
              "      <td>754.60</td>\n",
              "    </tr>\n",
              "    <tr>\n",
              "      <th>2181</th>\n",
              "      <td>Decoración</td>\n",
              "      <td>11.0</td>\n",
              "      <td>111.41</td>\n",
              "      <td>1225.51</td>\n",
              "    </tr>\n",
              "    <tr>\n",
              "      <th>...</th>\n",
              "      <td>...</td>\n",
              "      <td>...</td>\n",
              "      <td>...</td>\n",
              "      <td>...</td>\n",
              "    </tr>\n",
              "    <tr>\n",
              "      <th>981</th>\n",
              "      <td>Electrónica</td>\n",
              "      <td>4.0</td>\n",
              "      <td>43.20</td>\n",
              "      <td>172.80</td>\n",
              "    </tr>\n",
              "    <tr>\n",
              "      <th>2129</th>\n",
              "      <td>Electrónica</td>\n",
              "      <td>6.0</td>\n",
              "      <td>32.05</td>\n",
              "      <td>192.30</td>\n",
              "    </tr>\n",
              "    <tr>\n",
              "      <th>2128</th>\n",
              "      <td>Electrónica</td>\n",
              "      <td>8.0</td>\n",
              "      <td>80.89</td>\n",
              "      <td>647.12</td>\n",
              "    </tr>\n",
              "    <tr>\n",
              "      <th>2126</th>\n",
              "      <td>Electrónica</td>\n",
              "      <td>6.0</td>\n",
              "      <td>116.35</td>\n",
              "      <td>698.10</td>\n",
              "    </tr>\n",
              "    <tr>\n",
              "      <th>3034</th>\n",
              "      <td>Electrónica</td>\n",
              "      <td>6.0</td>\n",
              "      <td>55.47</td>\n",
              "      <td>332.82</td>\n",
              "    </tr>\n",
              "  </tbody>\n",
              "</table>\n",
              "<p>3000 rows × 4 columns</p>\n",
              "</div>\n",
              "    <div class=\"colab-df-buttons\">\n",
              "      \n",
              "  <div class=\"colab-df-container\">\n",
              "    <button class=\"colab-df-convert\" onclick=\"convertToInteractive('df-9d378307-29c4-4205-8c4b-f8ed838c3535')\"\n",
              "            title=\"Convert this dataframe to an interactive table.\"\n",
              "            style=\"display:none;\">\n",
              "      \n",
              "  <svg xmlns=\"http://www.w3.org/2000/svg\" height=\"24px\" viewBox=\"0 -960 960 960\">\n",
              "    <path d=\"M120-120v-720h720v720H120Zm60-500h600v-160H180v160Zm220 220h160v-160H400v160Zm0 220h160v-160H400v160ZM180-400h160v-160H180v160Zm440 0h160v-160H620v160ZM180-180h160v-160H180v160Zm440 0h160v-160H620v160Z\"/>\n",
              "  </svg>\n",
              "    </button>\n",
              "    \n",
              "  <style>\n",
              "    .colab-df-container {\n",
              "      display:flex;\n",
              "      gap: 12px;\n",
              "    }\n",
              "\n",
              "    .colab-df-convert {\n",
              "      background-color: #E8F0FE;\n",
              "      border: none;\n",
              "      border-radius: 50%;\n",
              "      cursor: pointer;\n",
              "      display: none;\n",
              "      fill: #1967D2;\n",
              "      height: 32px;\n",
              "      padding: 0 0 0 0;\n",
              "      width: 32px;\n",
              "    }\n",
              "\n",
              "    .colab-df-convert:hover {\n",
              "      background-color: #E2EBFA;\n",
              "      box-shadow: 0px 1px 2px rgba(60, 64, 67, 0.3), 0px 1px 3px 1px rgba(60, 64, 67, 0.15);\n",
              "      fill: #174EA6;\n",
              "    }\n",
              "\n",
              "    .colab-df-buttons div {\n",
              "      margin-bottom: 4px;\n",
              "    }\n",
              "\n",
              "    [theme=dark] .colab-df-convert {\n",
              "      background-color: #3B4455;\n",
              "      fill: #D2E3FC;\n",
              "    }\n",
              "\n",
              "    [theme=dark] .colab-df-convert:hover {\n",
              "      background-color: #434B5C;\n",
              "      box-shadow: 0px 1px 3px 1px rgba(0, 0, 0, 0.15);\n",
              "      filter: drop-shadow(0px 1px 2px rgba(0, 0, 0, 0.3));\n",
              "      fill: #FFFFFF;\n",
              "    }\n",
              "  </style>\n",
              "\n",
              "    <script>\n",
              "      const buttonEl =\n",
              "        document.querySelector('#df-9d378307-29c4-4205-8c4b-f8ed838c3535 button.colab-df-convert');\n",
              "      buttonEl.style.display =\n",
              "        google.colab.kernel.accessAllowed ? 'block' : 'none';\n",
              "\n",
              "      async function convertToInteractive(key) {\n",
              "        const element = document.querySelector('#df-9d378307-29c4-4205-8c4b-f8ed838c3535');\n",
              "        const dataTable =\n",
              "          await google.colab.kernel.invokeFunction('convertToInteractive',\n",
              "                                                    [key], {});\n",
              "        if (!dataTable) return;\n",
              "\n",
              "        const docLinkHtml = 'Like what you see? Visit the ' +\n",
              "          '<a target=\"_blank\" href=https://colab.research.google.com/notebooks/data_table.ipynb>data table notebook</a>'\n",
              "          + ' to learn more about interactive tables.';\n",
              "        element.innerHTML = '';\n",
              "        dataTable['output_type'] = 'display_data';\n",
              "        await google.colab.output.renderOutput(dataTable, element);\n",
              "        const docLink = document.createElement('div');\n",
              "        docLink.innerHTML = docLinkHtml;\n",
              "        element.appendChild(docLink);\n",
              "      }\n",
              "    </script>\n",
              "  </div>\n",
              "  \n",
              "    </div>\n",
              "  </div>\n",
              "  "
            ]
          },
          "metadata": {},
          "execution_count": 10
        }
      ]
    },
    {
      "cell_type": "code",
      "source": [
        "df_totalC = categoria_df.groupby('categoria', as_index=False)['valor'].sum()\n",
        "df_totalC = df_totalC.sort_values('valor',ascending=False)\n",
        "df_totalC['porc'] = df_totalC['valor'] * 100 / total3\n",
        "df_totalC.head(5)"
      ],
      "metadata": {
        "colab": {
          "base_uri": "https://localhost:8080/",
          "height": 143
        },
        "outputId": "a9473e55-78b7-4f54-9d13-bfc67509c522",
        "id": "djeDpPp8Fv4p"
      },
      "execution_count": null,
      "outputs": [
        {
          "output_type": "execute_result",
          "data": {
            "text/plain": [
              "           categoria      valor       porc\n",
              "1  Electrodomésticos  505299.63  34.442224\n",
              "2        Electrónica  482577.80  32.893459\n",
              "0         Decoración  479216.09  32.664318"
            ],
            "text/html": [
              "\n",
              "  <div id=\"df-180e40d7-29f9-4b9c-8fc7-93fc507c9914\" class=\"colab-df-container\">\n",
              "    <div>\n",
              "<style scoped>\n",
              "    .dataframe tbody tr th:only-of-type {\n",
              "        vertical-align: middle;\n",
              "    }\n",
              "\n",
              "    .dataframe tbody tr th {\n",
              "        vertical-align: top;\n",
              "    }\n",
              "\n",
              "    .dataframe thead th {\n",
              "        text-align: right;\n",
              "    }\n",
              "</style>\n",
              "<table border=\"1\" class=\"dataframe\">\n",
              "  <thead>\n",
              "    <tr style=\"text-align: right;\">\n",
              "      <th></th>\n",
              "      <th>categoria</th>\n",
              "      <th>valor</th>\n",
              "      <th>porc</th>\n",
              "    </tr>\n",
              "  </thead>\n",
              "  <tbody>\n",
              "    <tr>\n",
              "      <th>1</th>\n",
              "      <td>Electrodomésticos</td>\n",
              "      <td>505299.63</td>\n",
              "      <td>34.442224</td>\n",
              "    </tr>\n",
              "    <tr>\n",
              "      <th>2</th>\n",
              "      <td>Electrónica</td>\n",
              "      <td>482577.80</td>\n",
              "      <td>32.893459</td>\n",
              "    </tr>\n",
              "    <tr>\n",
              "      <th>0</th>\n",
              "      <td>Decoración</td>\n",
              "      <td>479216.09</td>\n",
              "      <td>32.664318</td>\n",
              "    </tr>\n",
              "  </tbody>\n",
              "</table>\n",
              "</div>\n",
              "    <div class=\"colab-df-buttons\">\n",
              "      \n",
              "  <div class=\"colab-df-container\">\n",
              "    <button class=\"colab-df-convert\" onclick=\"convertToInteractive('df-180e40d7-29f9-4b9c-8fc7-93fc507c9914')\"\n",
              "            title=\"Convert this dataframe to an interactive table.\"\n",
              "            style=\"display:none;\">\n",
              "      \n",
              "  <svg xmlns=\"http://www.w3.org/2000/svg\" height=\"24px\" viewBox=\"0 -960 960 960\">\n",
              "    <path d=\"M120-120v-720h720v720H120Zm60-500h600v-160H180v160Zm220 220h160v-160H400v160Zm0 220h160v-160H400v160ZM180-400h160v-160H180v160Zm440 0h160v-160H620v160ZM180-180h160v-160H180v160Zm440 0h160v-160H620v160Z\"/>\n",
              "  </svg>\n",
              "    </button>\n",
              "    \n",
              "  <style>\n",
              "    .colab-df-container {\n",
              "      display:flex;\n",
              "      gap: 12px;\n",
              "    }\n",
              "\n",
              "    .colab-df-convert {\n",
              "      background-color: #E8F0FE;\n",
              "      border: none;\n",
              "      border-radius: 50%;\n",
              "      cursor: pointer;\n",
              "      display: none;\n",
              "      fill: #1967D2;\n",
              "      height: 32px;\n",
              "      padding: 0 0 0 0;\n",
              "      width: 32px;\n",
              "    }\n",
              "\n",
              "    .colab-df-convert:hover {\n",
              "      background-color: #E2EBFA;\n",
              "      box-shadow: 0px 1px 2px rgba(60, 64, 67, 0.3), 0px 1px 3px 1px rgba(60, 64, 67, 0.15);\n",
              "      fill: #174EA6;\n",
              "    }\n",
              "\n",
              "    .colab-df-buttons div {\n",
              "      margin-bottom: 4px;\n",
              "    }\n",
              "\n",
              "    [theme=dark] .colab-df-convert {\n",
              "      background-color: #3B4455;\n",
              "      fill: #D2E3FC;\n",
              "    }\n",
              "\n",
              "    [theme=dark] .colab-df-convert:hover {\n",
              "      background-color: #434B5C;\n",
              "      box-shadow: 0px 1px 3px 1px rgba(0, 0, 0, 0.15);\n",
              "      filter: drop-shadow(0px 1px 2px rgba(0, 0, 0, 0.3));\n",
              "      fill: #FFFFFF;\n",
              "    }\n",
              "  </style>\n",
              "\n",
              "    <script>\n",
              "      const buttonEl =\n",
              "        document.querySelector('#df-180e40d7-29f9-4b9c-8fc7-93fc507c9914 button.colab-df-convert');\n",
              "      buttonEl.style.display =\n",
              "        google.colab.kernel.accessAllowed ? 'block' : 'none';\n",
              "\n",
              "      async function convertToInteractive(key) {\n",
              "        const element = document.querySelector('#df-180e40d7-29f9-4b9c-8fc7-93fc507c9914');\n",
              "        const dataTable =\n",
              "          await google.colab.kernel.invokeFunction('convertToInteractive',\n",
              "                                                    [key], {});\n",
              "        if (!dataTable) return;\n",
              "\n",
              "        const docLinkHtml = 'Like what you see? Visit the ' +\n",
              "          '<a target=\"_blank\" href=https://colab.research.google.com/notebooks/data_table.ipynb>data table notebook</a>'\n",
              "          + ' to learn more about interactive tables.';\n",
              "        element.innerHTML = '';\n",
              "        dataTable['output_type'] = 'display_data';\n",
              "        await google.colab.output.renderOutput(dataTable, element);\n",
              "        const docLink = document.createElement('div');\n",
              "        docLink.innerHTML = docLinkHtml;\n",
              "        element.appendChild(docLink);\n",
              "      }\n",
              "    </script>\n",
              "  </div>\n",
              "  \n",
              "    </div>\n",
              "  </div>\n",
              "  "
            ]
          },
          "metadata": {},
          "execution_count": 11
        }
      ]
    },
    {
      "cell_type": "markdown",
      "source": [
        "4. Integración de Datos: Combinar los sets de datos de ventas y marketing\n",
        "para obtener una visión más amplia de las tendencias."
      ],
      "metadata": {
        "id": "MpS-ydMN--hP"
      }
    },
    {
      "cell_type": "code",
      "source": [
        "df_VM = pd.merge(df_ventasL, df_marketing, on = \"producto\", how = \"outer\")\n",
        "total_filas_nulas = df_VM.isnull().any(axis=1).sum()\n",
        "print(total_filas_nulas)"
      ],
      "metadata": {
        "colab": {
          "base_uri": "https://localhost:8080/"
        },
        "id": "KHKX1602dgFD",
        "outputId": "264c3b7e-6659-4541-fe60-95cdd94b70ad"
      },
      "execution_count": null,
      "outputs": [
        {
          "output_type": "stream",
          "name": "stdout",
          "text": [
            "6\n"
          ]
        }
      ]
    },
    {
      "cell_type": "code",
      "source": [
        "df_con_nulos = df_VM[df_VM.isna().any(axis=1)]\n",
        "df_con_nulos.head(10)"
      ],
      "metadata": {
        "colab": {
          "base_uri": "https://localhost:8080/",
          "height": 341
        },
        "id": "rAOr6_zAi6Zn",
        "outputId": "b83f9644-ecf8-4c5f-d925-2cc7dae1ab69"
      },
      "execution_count": null,
      "outputs": [
        {
          "output_type": "execute_result",
          "data": {
            "text/plain": [
              "      id_venta               producto  precio  cantidad fecha_venta  \\\n",
              "3267       627  Elementos de cerámica     NaN       NaN  2024-01-17   \n",
              "3268       627  Elementos de cerámica     NaN       NaN  2024-01-17   \n",
              "3269       627  Elementos de cerámica     NaN       NaN  2024-01-17   \n",
              "6432      2171    Parlantes Bluetooth     NaN       NaN  2024-01-17   \n",
              "6433      2171    Parlantes Bluetooth     NaN       NaN  2024-01-17   \n",
              "6434      2171    Parlantes Bluetooth     NaN       NaN  2024-01-17   \n",
              "\n",
              "        categoria  id_campanha  canal  costo fecha_inicio  fecha_fin  \n",
              "3267   Decoración           22   RRSS   5.44   2024-06-26 2024-07-15  \n",
              "3268   Decoración           82     TV   5.69   2024-09-08 2024-10-12  \n",
              "3269   Decoración           52  Email   5.74   2024-09-09 2024-09-30  \n",
              "6432  Electrónica           84     TV   4.42   2024-04-17 2024-05-05  \n",
              "6433  Electrónica           54  Email   2.95   2024-08-09 2024-09-22  \n",
              "6434  Electrónica           24   RRSS   6.00   2024-09-22 2024-10-26  "
            ],
            "text/html": [
              "\n",
              "  <div id=\"df-8d13e80f-15af-4bb3-9014-8abcceba04aa\" class=\"colab-df-container\">\n",
              "    <div>\n",
              "<style scoped>\n",
              "    .dataframe tbody tr th:only-of-type {\n",
              "        vertical-align: middle;\n",
              "    }\n",
              "\n",
              "    .dataframe tbody tr th {\n",
              "        vertical-align: top;\n",
              "    }\n",
              "\n",
              "    .dataframe thead th {\n",
              "        text-align: right;\n",
              "    }\n",
              "</style>\n",
              "<table border=\"1\" class=\"dataframe\">\n",
              "  <thead>\n",
              "    <tr style=\"text-align: right;\">\n",
              "      <th></th>\n",
              "      <th>id_venta</th>\n",
              "      <th>producto</th>\n",
              "      <th>precio</th>\n",
              "      <th>cantidad</th>\n",
              "      <th>fecha_venta</th>\n",
              "      <th>categoria</th>\n",
              "      <th>id_campanha</th>\n",
              "      <th>canal</th>\n",
              "      <th>costo</th>\n",
              "      <th>fecha_inicio</th>\n",
              "      <th>fecha_fin</th>\n",
              "    </tr>\n",
              "  </thead>\n",
              "  <tbody>\n",
              "    <tr>\n",
              "      <th>3267</th>\n",
              "      <td>627</td>\n",
              "      <td>Elementos de cerámica</td>\n",
              "      <td>NaN</td>\n",
              "      <td>NaN</td>\n",
              "      <td>2024-01-17</td>\n",
              "      <td>Decoración</td>\n",
              "      <td>22</td>\n",
              "      <td>RRSS</td>\n",
              "      <td>5.44</td>\n",
              "      <td>2024-06-26</td>\n",
              "      <td>2024-07-15</td>\n",
              "    </tr>\n",
              "    <tr>\n",
              "      <th>3268</th>\n",
              "      <td>627</td>\n",
              "      <td>Elementos de cerámica</td>\n",
              "      <td>NaN</td>\n",
              "      <td>NaN</td>\n",
              "      <td>2024-01-17</td>\n",
              "      <td>Decoración</td>\n",
              "      <td>82</td>\n",
              "      <td>TV</td>\n",
              "      <td>5.69</td>\n",
              "      <td>2024-09-08</td>\n",
              "      <td>2024-10-12</td>\n",
              "    </tr>\n",
              "    <tr>\n",
              "      <th>3269</th>\n",
              "      <td>627</td>\n",
              "      <td>Elementos de cerámica</td>\n",
              "      <td>NaN</td>\n",
              "      <td>NaN</td>\n",
              "      <td>2024-01-17</td>\n",
              "      <td>Decoración</td>\n",
              "      <td>52</td>\n",
              "      <td>Email</td>\n",
              "      <td>5.74</td>\n",
              "      <td>2024-09-09</td>\n",
              "      <td>2024-09-30</td>\n",
              "    </tr>\n",
              "    <tr>\n",
              "      <th>6432</th>\n",
              "      <td>2171</td>\n",
              "      <td>Parlantes Bluetooth</td>\n",
              "      <td>NaN</td>\n",
              "      <td>NaN</td>\n",
              "      <td>2024-01-17</td>\n",
              "      <td>Electrónica</td>\n",
              "      <td>84</td>\n",
              "      <td>TV</td>\n",
              "      <td>4.42</td>\n",
              "      <td>2024-04-17</td>\n",
              "      <td>2024-05-05</td>\n",
              "    </tr>\n",
              "    <tr>\n",
              "      <th>6433</th>\n",
              "      <td>2171</td>\n",
              "      <td>Parlantes Bluetooth</td>\n",
              "      <td>NaN</td>\n",
              "      <td>NaN</td>\n",
              "      <td>2024-01-17</td>\n",
              "      <td>Electrónica</td>\n",
              "      <td>54</td>\n",
              "      <td>Email</td>\n",
              "      <td>2.95</td>\n",
              "      <td>2024-08-09</td>\n",
              "      <td>2024-09-22</td>\n",
              "    </tr>\n",
              "    <tr>\n",
              "      <th>6434</th>\n",
              "      <td>2171</td>\n",
              "      <td>Parlantes Bluetooth</td>\n",
              "      <td>NaN</td>\n",
              "      <td>NaN</td>\n",
              "      <td>2024-01-17</td>\n",
              "      <td>Electrónica</td>\n",
              "      <td>24</td>\n",
              "      <td>RRSS</td>\n",
              "      <td>6.00</td>\n",
              "      <td>2024-09-22</td>\n",
              "      <td>2024-10-26</td>\n",
              "    </tr>\n",
              "  </tbody>\n",
              "</table>\n",
              "</div>\n",
              "    <div class=\"colab-df-buttons\">\n",
              "      \n",
              "  <div class=\"colab-df-container\">\n",
              "    <button class=\"colab-df-convert\" onclick=\"convertToInteractive('df-8d13e80f-15af-4bb3-9014-8abcceba04aa')\"\n",
              "            title=\"Convert this dataframe to an interactive table.\"\n",
              "            style=\"display:none;\">\n",
              "      \n",
              "  <svg xmlns=\"http://www.w3.org/2000/svg\" height=\"24px\" viewBox=\"0 -960 960 960\">\n",
              "    <path d=\"M120-120v-720h720v720H120Zm60-500h600v-160H180v160Zm220 220h160v-160H400v160Zm0 220h160v-160H400v160ZM180-400h160v-160H180v160Zm440 0h160v-160H620v160ZM180-180h160v-160H180v160Zm440 0h160v-160H620v160Z\"/>\n",
              "  </svg>\n",
              "    </button>\n",
              "    \n",
              "  <style>\n",
              "    .colab-df-container {\n",
              "      display:flex;\n",
              "      gap: 12px;\n",
              "    }\n",
              "\n",
              "    .colab-df-convert {\n",
              "      background-color: #E8F0FE;\n",
              "      border: none;\n",
              "      border-radius: 50%;\n",
              "      cursor: pointer;\n",
              "      display: none;\n",
              "      fill: #1967D2;\n",
              "      height: 32px;\n",
              "      padding: 0 0 0 0;\n",
              "      width: 32px;\n",
              "    }\n",
              "\n",
              "    .colab-df-convert:hover {\n",
              "      background-color: #E2EBFA;\n",
              "      box-shadow: 0px 1px 2px rgba(60, 64, 67, 0.3), 0px 1px 3px 1px rgba(60, 64, 67, 0.15);\n",
              "      fill: #174EA6;\n",
              "    }\n",
              "\n",
              "    .colab-df-buttons div {\n",
              "      margin-bottom: 4px;\n",
              "    }\n",
              "\n",
              "    [theme=dark] .colab-df-convert {\n",
              "      background-color: #3B4455;\n",
              "      fill: #D2E3FC;\n",
              "    }\n",
              "\n",
              "    [theme=dark] .colab-df-convert:hover {\n",
              "      background-color: #434B5C;\n",
              "      box-shadow: 0px 1px 3px 1px rgba(0, 0, 0, 0.15);\n",
              "      filter: drop-shadow(0px 1px 2px rgba(0, 0, 0, 0.3));\n",
              "      fill: #FFFFFF;\n",
              "    }\n",
              "  </style>\n",
              "\n",
              "    <script>\n",
              "      const buttonEl =\n",
              "        document.querySelector('#df-8d13e80f-15af-4bb3-9014-8abcceba04aa button.colab-df-convert');\n",
              "      buttonEl.style.display =\n",
              "        google.colab.kernel.accessAllowed ? 'block' : 'none';\n",
              "\n",
              "      async function convertToInteractive(key) {\n",
              "        const element = document.querySelector('#df-8d13e80f-15af-4bb3-9014-8abcceba04aa');\n",
              "        const dataTable =\n",
              "          await google.colab.kernel.invokeFunction('convertToInteractive',\n",
              "                                                    [key], {});\n",
              "        if (!dataTable) return;\n",
              "\n",
              "        const docLinkHtml = 'Like what you see? Visit the ' +\n",
              "          '<a target=\"_blank\" href=https://colab.research.google.com/notebooks/data_table.ipynb>data table notebook</a>'\n",
              "          + ' to learn more about interactive tables.';\n",
              "        element.innerHTML = '';\n",
              "        dataTable['output_type'] = 'display_data';\n",
              "        await google.colab.output.renderOutput(dataTable, element);\n",
              "        const docLink = document.createElement('div');\n",
              "        docLink.innerHTML = docLinkHtml;\n",
              "        element.appendChild(docLink);\n",
              "      }\n",
              "    </script>\n",
              "  </div>\n",
              "  \n",
              "    </div>\n",
              "  </div>\n",
              "  "
            ]
          },
          "metadata": {},
          "execution_count": 29
        }
      ]
    },
    {
      "cell_type": "markdown",
      "source": [
        "Al integrar con outer obtengo como primera conclución que tengo dos productos que fueron objeto de campañas de marketing y que nunca se vendieron."
      ],
      "metadata": {
        "id": "XGuLGNN5nO32"
      }
    },
    {
      "cell_type": "markdown",
      "source": [],
      "metadata": {
        "id": "2ZJF1eORiHpx"
      }
    }
  ]
}
